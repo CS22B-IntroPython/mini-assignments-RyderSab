{
  "nbformat": 4,
  "nbformat_minor": 0,
  "metadata": {
    "colab": {
      "provenance": []
    },
    "kernelspec": {
      "name": "python3",
      "display_name": "Python 3"
    },
    "language_info": {
      "name": "python"
    }
  },
  "cells": [
    {
      "cell_type": "markdown",
      "source": [
        "## **List questions**\n",
        "\n",
        "#### Question 1:\n",
        "Part A: Find the Missing Number  \n",
        "You are given a list of n-1 integers, and these integers are in the range of 1 to n. There are no duplicates in the list. One of the integers is missing. Write a function to find the missing number.\n",
        "\n",
        "Part B: Merge Overlapping Intervals  \n",
        "Given a collection of intervals, merge any overlapping intervals."
      ],
      "metadata": {
        "id": "iEBZ5Ub3pfOi"
      }
    },
    {
      "cell_type": "code",
      "execution_count": null,
      "metadata": {
        "id": "kYQ76OVTnc8U",
        "colab": {
          "base_uri": "https://localhost:8080/"
        },
        "outputId": "e56f2c44-1663-4838-d2e5-af442da55671"
      },
      "outputs": [
        {
          "output_type": "stream",
          "name": "stdout",
          "text": [
            "5\n",
            "[[1, 6], [8, 10], [15, 18]]\n"
          ]
        }
      ],
      "source": [
        "def find_missing(lst):\n",
        "  for x in range(1,len(lst)):\n",
        "    if(x not in lst):\n",
        "      return(x)\n",
        "\n",
        "lst = [1, 2, 4, 6, 3, 7, 8]\n",
        "missing_number = find_missing(lst)\n",
        "print(missing_number)\n",
        "\n",
        "\n",
        "def merge_intervals(intervals):\n",
        "  ans = []\n",
        "  intervals.sort()\n",
        "  for x in range(1, len(intervals)):\n",
        "    curr = intervals[x]\n",
        "    prev = intervals[x - 1]\n",
        "\n",
        "    if(curr[0] < prev[1]):\n",
        "      ans.append([prev[0], curr[1]])\n",
        "    else:\n",
        "      ans.append(curr)\n",
        "\n",
        "  return ans\n",
        "\n",
        "intervals = [[1, 3], [2, 6], [8, 10], [15, 18]]\n",
        "merged = merge_intervals(intervals)\n",
        "print(merged)"
      ]
    },
    {
      "cell_type": "markdown",
      "source": [
        "## **Tuple Questions**\n",
        "\n",
        "#### Question 2: Count Elements\n",
        "\n",
        "Write a function that counts the number of elements in a tuple that are greater than a specified value."
      ],
      "metadata": {
        "id": "GXis4SDAr5Oj"
      }
    },
    {
      "cell_type": "code",
      "source": [
        "def count_greater(tup, value):\n",
        "  count = 0\n",
        "  for x in tup:\n",
        "    if(x > value):\n",
        "      count = count + 1\n",
        "\n",
        "  return count\n",
        "\n",
        "tup = (1, 5, 7, 3, 14, 9, 2, 6, 12)\n",
        "print(count_greater(tup, 4))"
      ],
      "metadata": {
        "id": "22YInkd8sAYK",
        "colab": {
          "base_uri": "https://localhost:8080/"
        },
        "outputId": "22232beb-c66b-4727-c439-957b507a7f19"
      },
      "execution_count": null,
      "outputs": [
        {
          "output_type": "stream",
          "name": "stdout",
          "text": [
            "6\n"
          ]
        }
      ]
    },
    {
      "cell_type": "markdown",
      "source": [
        "## **Set Questions**\n",
        "\n",
        "#### Question 3: Maximal Set by Sum\n",
        "\n",
        "Write a function to find the set from a list of sets that has the maximum sum of its elements."
      ],
      "metadata": {
        "id": "5OvDTlSZpmcJ"
      }
    },
    {
      "cell_type": "code",
      "source": [
        "def max_set_by_sum(sets):\n",
        "  max = 0\n",
        "  ans = {}\n",
        "\n",
        "  for x in sets:\n",
        "    sum = 0\n",
        "    for n in x:\n",
        "      sum = sum + n\n",
        "\n",
        "    if (sum > max):\n",
        "      max = sum\n",
        "      ans = x\n",
        "\n",
        "  return ans\n",
        "\n",
        "sets = [{1, 2, 3}, {7, 8, 9}, {10, 1, 2}]\n",
        "print(max_set_by_sum(sets))"
      ],
      "metadata": {
        "id": "_kUoA-tEpoFL",
        "colab": {
          "base_uri": "https://localhost:8080/"
        },
        "outputId": "a54ba270-bd6f-4061-c8f0-fa5e7ce337e7"
      },
      "execution_count": null,
      "outputs": [
        {
          "output_type": "stream",
          "name": "stdout",
          "text": [
            "{8, 9, 7}\n"
          ]
        }
      ]
    },
    {
      "cell_type": "markdown",
      "source": [
        "##**Stack Questions**\n",
        "\n",
        "#### Question 4: Write a function to sort a stack."
      ],
      "metadata": {
        "id": "pPxU7fx6qFxq"
      }
    },
    {
      "cell_type": "code",
      "source": [
        "stack = [34, 3, 31, 98, 92, 23]\n",
        "temp_stack = [stack.pop()]\n",
        "temp = []"
      ],
      "metadata": {
        "id": "s4YsLRYgM-bI"
      },
      "execution_count": 77,
      "outputs": []
    },
    {
      "cell_type": "code",
      "source": [
        "while((stack[-1] < temp_stack[-1])):\n",
        "  temp.append(temp_stack.pop())\n",
        "  if(len(temp_stack) == 0):\n",
        "    break\n",
        "\n",
        "temp_stack.append(stack.pop())\n",
        "\n",
        "if(len(temp) != 0):\n",
        "  for x in temp:\n",
        "    stack.append(x)\n",
        "\n",
        "temp = []\n",
        "\n",
        "print(stack)\n",
        "print(temp_stack)"
      ],
      "metadata": {
        "colab": {
          "base_uri": "https://localhost:8080/"
        },
        "id": "CadgP_g_MipV",
        "outputId": "6ca8c313-a2c6-4418-b281-9cfeb323f0e5"
      },
      "execution_count": 90,
      "outputs": [
        {
          "output_type": "stream",
          "name": "stdout",
          "text": [
            "[]\n",
            "[3, 23, 31, 34, 92, 98]\n"
          ]
        }
      ]
    },
    {
      "cell_type": "code",
      "source": [
        "def sort_stack(stack):\n",
        "  temp_stack = [stack.pop()]\n",
        "  temp = []\n",
        "\n",
        "  while(len(stack) != 0):\n",
        "    while((stack[-1] < temp_stack[-1])):\n",
        "      temp.append(temp_stack.pop())\n",
        "      if(len(temp_stack) == 0):\n",
        "        break\n",
        "\n",
        "    temp_stack.append(stack.pop())\n",
        "\n",
        "    if(len(temp) != 0):\n",
        "      for x in temp:\n",
        "        stack.append(x)\n",
        "\n",
        "    temp = []\n",
        "\n",
        "  return temp_stack\n",
        "\n",
        "stack = [34, 3, 31, 98, 92, 23]\n",
        "print(sort_stack(stack))"
      ],
      "metadata": {
        "id": "M28lHodsqH6A",
        "colab": {
          "base_uri": "https://localhost:8080/"
        },
        "outputId": "d51ea4d4-5ebe-4a52-d1c5-09166470776e"
      },
      "execution_count": 91,
      "outputs": [
        {
          "output_type": "stream",
          "name": "stdout",
          "text": [
            "[3, 23, 31, 34, 92, 98]\n"
          ]
        }
      ]
    }
  ]
}