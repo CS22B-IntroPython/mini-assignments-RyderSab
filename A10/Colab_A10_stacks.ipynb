{
  "cells": [
    {
      "cell_type": "markdown",
      "source": [
        "##**Stack Questions**"
      ],
      "metadata": {
        "id": "cP32wAV3Yi-4"
      }
    },
    {
      "cell_type": "markdown",
      "source": [
        "## Question 1: Write a function to sort a stack."
      ],
      "metadata": {
        "id": "KqdNjm1oY_ss"
      }
    },
    {
      "cell_type": "code",
      "source": [
        "def sort_stack(stack):\n",
        "  temp_stack = [stack.pop()]\n",
        "  temp = []\n",
        "\n",
        "  while(len(stack) != 0):\n",
        "    while((stack[-1] < temp_stack[-1])):\n",
        "      temp.append(temp_stack.pop())\n",
        "      if(len(temp_stack) == 0):\n",
        "        break\n",
        "\n",
        "    temp_stack.append(stack.pop())\n",
        "\n",
        "    if(len(temp) != 0):\n",
        "      for x in temp:\n",
        "        stack.append(x)\n",
        "\n",
        "    temp = []\n",
        "\n",
        "  return temp_stack\n",
        "\n",
        "stack = [34, 3, 31, 98, 92, 23]\n",
        "print(sort_stack(stack))"
      ],
      "metadata": {
        "id": "mb9K46p3Ym0N",
        "colab": {
          "base_uri": "https://localhost:8080/"
        },
        "outputId": "a89bd68e-bc68-4b3c-a7ea-6bc23dfd86ef"
      },
      "execution_count": null,
      "outputs": [
        {
          "output_type": "stream",
          "name": "stdout",
          "text": [
            "[3, 23, 31, 34, 92, 98]\n"
          ]
        }
      ]
    },
    {
      "cell_type": "markdown",
      "metadata": {
        "id": "jFxb6ss_Whwl"
      },
      "source": [
        "## Question 2: Depict the following image as a list.\n",
        "\n",
        "<img src=\"https://miro.medium.com/max/1050/1*XifPIMxbamGKhz5UAEdz2w.png\">\n",
        "\n",
        "#### Queue\n",
        "1. Add the number 9 to the list.\n",
        "2. Remove the first number (7) from the list.\n",
        "\n",
        "#### Stack\n",
        "3. Add the number 4 to the same list.\n",
        "4. Remove the last number added (4) from the list."
      ]
    },
    {
      "cell_type": "markdown",
      "source": [
        "**Queue**"
      ],
      "metadata": {
        "id": "Mnb9AML4IOth"
      }
    },
    {
      "cell_type": "code",
      "source": [
        "lst = [7, 3, 1, 6, 8]\n",
        "\n",
        "lst.insert(0, 9)\n",
        "\n",
        "temp = []\n",
        "\n",
        "while(lst[-1] != 7):\n",
        "  temp.append(lst.pop())\n",
        "\n",
        "lst.pop()\n",
        "\n",
        "index = len(lst)\n",
        "\n",
        "for x in temp:\n",
        "  lst.insert(index, x)\n",
        "\n",
        "lst"
      ],
      "metadata": {
        "colab": {
          "base_uri": "https://localhost:8080/"
        },
        "id": "yK8M9_0wIhPl",
        "outputId": "9223345a-5f7a-4848-a82b-bfd3816bbe78"
      },
      "execution_count": null,
      "outputs": [
        {
          "output_type": "execute_result",
          "data": {
            "text/plain": [
              "[9, 3, 1, 6, 8]"
            ]
          },
          "metadata": {},
          "execution_count": 12
        }
      ]
    },
    {
      "cell_type": "markdown",
      "source": [
        "**Stack**"
      ],
      "metadata": {
        "id": "rUHIiYLgbbRf"
      }
    },
    {
      "cell_type": "code",
      "source": [
        "lst.append(4)\n",
        "\n",
        "lst.pop()\n",
        "lst"
      ],
      "metadata": {
        "colab": {
          "base_uri": "https://localhost:8080/"
        },
        "id": "wU6wKTFycoBz",
        "outputId": "009dec1e-0947-4077-d07d-2a954f18374d"
      },
      "execution_count": null,
      "outputs": [
        {
          "output_type": "execute_result",
          "data": {
            "text/plain": [
              "[9, 3, 1, 6, 8]"
            ]
          },
          "metadata": {},
          "execution_count": 13
        }
      ]
    },
    {
      "cell_type": "markdown",
      "metadata": {
        "id": "tQ3kgHVtWhwn"
      },
      "source": [
        "#### Question 3: Nodes\n",
        "\n",
        "<img src=\"https://encrypted-tbn0.gstatic.com/images?q=tbn:ANd9GcQW8-twGk0hCILE-muHBnG93hZJh2Qvgs7pVA&s\">\n",
        "\n",
        "1. Use a data structure of your choice to denote the different nodes.\n",
        "\n",
        "2. Create a function that sums all of the \"children\". Test with the node 10 (Expected answer is 37).\n"
      ]
    },
    {
      "cell_type": "code",
      "source": [
        "tree = {8:[10, 3],\n",
        "        3:[1, 6],\n",
        "        6:[4, 7],\n",
        "        10:[14],\n",
        "        14:[13]}\n",
        "\n",
        "def get_sum(node):\n",
        "  sum = node\n",
        "\n",
        "  if((node != None) & (tree.get(node) != None)):\n",
        "    for x in tree.get(node):\n",
        "      sum = sum + get_sum(x)\n",
        "\n",
        "  return sum\n",
        "\n",
        "print(get_sum(3))\n",
        "print(get_sum(8))\n",
        "print(get_sum(10))"
      ],
      "metadata": {
        "colab": {
          "base_uri": "https://localhost:8080/"
        },
        "id": "DNeYKTr_WZoH",
        "outputId": "4445d37e-5280-490c-b88c-2374ea1e480e"
      },
      "execution_count": null,
      "outputs": [
        {
          "output_type": "stream",
          "name": "stdout",
          "text": [
            "21\n",
            "66\n",
            "37\n"
          ]
        }
      ]
    }
  ],
  "metadata": {
    "hide_input": false,
    "kernelspec": {
      "display_name": "Python 3",
      "language": "python",
      "name": "python3"
    },
    "language_info": {
      "codemirror_mode": {
        "name": "ipython",
        "version": 3
      },
      "file_extension": ".py",
      "mimetype": "text/x-python",
      "name": "python",
      "nbconvert_exporter": "python",
      "pygments_lexer": "ipython3",
      "version": "3.8.3"
    },
    "toc": {
      "base_numbering": 1,
      "nav_menu": {},
      "number_sections": true,
      "sideBar": true,
      "skip_h1_title": false,
      "title_cell": "Table of Contents",
      "title_sidebar": "Contents",
      "toc_cell": false,
      "toc_position": {},
      "toc_section_display": true,
      "toc_window_display": false
    },
    "colab": {
      "provenance": []
    }
  },
  "nbformat": 4,
  "nbformat_minor": 0
}